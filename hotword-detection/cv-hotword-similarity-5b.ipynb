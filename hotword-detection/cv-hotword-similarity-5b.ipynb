{
 "cells": [
  {
   "cell_type": "markdown",
   "metadata": {},
   "source": [
    "## Task 5b: Using a text embedding model to find similar phrases to hot words in Task 5a"
   ]
  },
  {
   "cell_type": "markdown",
   "metadata": {},
   "source": [
    "This notebook contains the solutions for Task 5b whereby the text embedding model to be used is ```hkunlp/instructor-large``` with the following [HuggingFace Link](https://huggingface.co/hkunlp/instructor-large) to find similar phrases to the hotwords ```(be careful, destroy, stranger)```\n"
   ]
  },
  {
   "cell_type": "code",
   "execution_count": 1,
   "metadata": {},
   "outputs": [],
   "source": [
    "# Only run this line if you still face issues with the sentence-transformers library\n",
    "# %pip install -U sentence-transformers"
   ]
  },
  {
   "cell_type": "markdown",
   "metadata": {},
   "source": [
    "### Loading the cv-valid-dev.csv dataset"
   ]
  },
  {
   "cell_type": "code",
   "execution_count": 2,
   "metadata": {},
   "outputs": [
    {
     "data": {
      "text/html": [
       "<div>\n",
       "<style scoped>\n",
       "    .dataframe tbody tr th:only-of-type {\n",
       "        vertical-align: middle;\n",
       "    }\n",
       "\n",
       "    .dataframe tbody tr th {\n",
       "        vertical-align: top;\n",
       "    }\n",
       "\n",
       "    .dataframe thead th {\n",
       "        text-align: right;\n",
       "    }\n",
       "</style>\n",
       "<table border=\"1\" class=\"dataframe\">\n",
       "  <thead>\n",
       "    <tr style=\"text-align: right;\">\n",
       "      <th></th>\n",
       "      <th>filename</th>\n",
       "      <th>generated_text</th>\n",
       "    </tr>\n",
       "  </thead>\n",
       "  <tbody>\n",
       "    <tr>\n",
       "      <th>0</th>\n",
       "      <td>cv-valid-dev/sample-000000.mp3</td>\n",
       "      <td>be careful with your propnastigations said the stranger</td>\n",
       "    </tr>\n",
       "    <tr>\n",
       "      <th>1</th>\n",
       "      <td>cv-valid-dev/sample-000001.mp3</td>\n",
       "      <td>then why should they be surprised when they se born</td>\n",
       "    </tr>\n",
       "    <tr>\n",
       "      <th>2</th>\n",
       "      <td>cv-valid-dev/sample-000002.mp3</td>\n",
       "      <td>a young arab also loaded down with bagage entered and greted the englishman</td>\n",
       "    </tr>\n",
       "    <tr>\n",
       "      <th>3</th>\n",
       "      <td>cv-valid-dev/sample-000003.mp3</td>\n",
       "      <td>i felt that everything i owned would be destroyed</td>\n",
       "    </tr>\n",
       "    <tr>\n",
       "      <th>4</th>\n",
       "      <td>cv-valid-dev/sample-000004.mp3</td>\n",
       "      <td>he moved about invisible but everyone could hear him</td>\n",
       "    </tr>\n",
       "  </tbody>\n",
       "</table>\n",
       "</div>"
      ],
      "text/plain": [
       "                         filename  \\\n",
       "0  cv-valid-dev/sample-000000.mp3   \n",
       "1  cv-valid-dev/sample-000001.mp3   \n",
       "2  cv-valid-dev/sample-000002.mp3   \n",
       "3  cv-valid-dev/sample-000003.mp3   \n",
       "4  cv-valid-dev/sample-000004.mp3   \n",
       "\n",
       "                                                                generated_text  \n",
       "0                      be careful with your propnastigations said the stranger  \n",
       "1                          then why should they be surprised when they se born  \n",
       "2  a young arab also loaded down with bagage entered and greted the englishman  \n",
       "3                            i felt that everything i owned would be destroyed  \n",
       "4                         he moved about invisible but everyone could hear him  "
      ]
     },
     "execution_count": 2,
     "metadata": {},
     "output_type": "execute_result"
    }
   ],
   "source": [
    "import pandas as pd\n",
    "import numpy as np\n",
    "\n",
    "# Set Pandas display options to show full text\n",
    "pd.set_option(\"display.max_colwidth\", None)\n",
    "\n",
    "# Read the csv file\n",
    "df = pd.read_csv('cv-valid-dev.csv')\n",
    "df = df[['filename', 'generated_text']] # Filtering to required columns\n",
    "df.head()"
   ]
  },
  {
   "cell_type": "markdown",
   "metadata": {},
   "source": [
    "The following code implementation was adopted from the HuggingFace Repository, however there were many errors faced as the ```InstructorEmbedding``` Library was not maintained so suit the latest version of ```sentence-transformer```, hence the following method will not be used. \n",
    "\n",
    "```Python\n",
    "from InstructorEmbedding import INSTRUCTOR\n",
    "\n",
    "model = INSTRUCTOR('hkunlp/instructor-large')\n",
    "sentence = \"3D ActionSLAM: wearable person tracking in multi-floor environments\"\n",
    "instruction = \"Represent the Science title:\"\n",
    "embeddings = model.encode([[instruction,sentence]])\n",
    "print(embeddings)\n",
    "```"
   ]
  },
  {
   "cell_type": "markdown",
   "metadata": {},
   "source": [
    "We will directly load the model using the ```SentenceTransformer() Function```."
   ]
  },
  {
   "cell_type": "code",
   "execution_count": 3,
   "metadata": {},
   "outputs": [
    {
     "name": "stdout",
     "output_type": "stream",
     "text": [
      "Using Device: cuda\n"
     ]
    }
   ],
   "source": [
    "import torch\n",
    "\n",
    "# Set the device to GPU if available\n",
    "device = torch.device(\"cuda\" if torch.cuda.is_available() else \"cpu\")\n",
    "print(\"Using Device:\", device)"
   ]
  },
  {
   "cell_type": "code",
   "execution_count": 4,
   "metadata": {},
   "outputs": [
    {
     "data": {
      "text/plain": [
       "SentenceTransformer(\n",
       "  (0): Transformer({'max_seq_length': 512, 'do_lower_case': False}) with Transformer model: T5EncoderModel \n",
       "  (1): Pooling({'word_embedding_dimension': 768, 'pooling_mode_cls_token': False, 'pooling_mode_mean_tokens': True, 'pooling_mode_max_tokens': False, 'pooling_mode_mean_sqrt_len_tokens': False, 'pooling_mode_weightedmean_tokens': False, 'pooling_mode_lasttoken': False, 'include_prompt': False})\n",
       "  (2): Dense({'in_features': 1024, 'out_features': 768, 'bias': False, 'activation_function': 'torch.nn.modules.linear.Identity'})\n",
       "  (3): Normalize()\n",
       ")"
      ]
     },
     "execution_count": 4,
     "metadata": {},
     "output_type": "execute_result"
    }
   ],
   "source": [
    "from sentence_transformers import SentenceTransformer, util\n",
    "\n",
    "# Load the model\n",
    "model = SentenceTransformer('hkunlp/instructor-large')\n",
    "\n",
    "# Ensure that the model is on the device\n",
    "model.to(device)"
   ]
  },
  {
   "cell_type": "markdown",
   "metadata": {},
   "source": [
    "### Using the Model to generate embeddings"
   ]
  },
  {
   "cell_type": "markdown",
   "metadata": {},
   "source": [
    "We will use ```hkunlp/instructor-large model``` to encode the hotwords and the text into embeddings which will be converted into tensors for processing. \n",
    "\n",
    "The reasons why I converted the embeddings into tensors are because:\n",
    "1. Efficiency: Tensors are optimised for numerical computations and we can utilise GPU acceleration to speed up the process rather than processing each textual-based embedding one at a time\n",
    "2. Compatibility: The utility functions together with the sentence_transformers package contains ```util.cos.sim``` which will be used for Cosine Similarity scores are designed to work with tensors"
   ]
  },
  {
   "cell_type": "code",
   "execution_count": 5,
   "metadata": {},
   "outputs": [],
   "source": [
    "# Define the hotwords\n",
    "hotwords = [\"be careful\", \"destroy\", \"stranger\"]\n",
    "\n",
    "# Compute embeddings for the hotwords\n",
    "hotword_embeddings = model.encode(hotwords, convert_to_tensor=True)"
   ]
  },
  {
   "cell_type": "markdown",
   "metadata": {},
   "source": [
    "The following function is then created to check the similarity of each sentence embedding with the hot word embedding to look for similarities. \n",
    "\n",
    "```The choice of threshold = 87% similar score was dependent on experimentations between the range 80% - 89%, I found that 87% as the threshold is balanced to classify the correct and incorrect sentences appropriately``` "
   ]
  },
  {
   "cell_type": "code",
   "execution_count": 6,
   "metadata": {},
   "outputs": [
    {
     "name": "stderr",
     "output_type": "stream",
     "text": [
      "Similarity Check Progress: 100%|██████████| 4076/4076 [00:41<00:00, 99.22it/s] \n"
     ]
    },
    {
     "data": {
      "text/html": [
       "<div>\n",
       "<style scoped>\n",
       "    .dataframe tbody tr th:only-of-type {\n",
       "        vertical-align: middle;\n",
       "    }\n",
       "\n",
       "    .dataframe tbody tr th {\n",
       "        vertical-align: top;\n",
       "    }\n",
       "\n",
       "    .dataframe thead th {\n",
       "        text-align: right;\n",
       "    }\n",
       "</style>\n",
       "<table border=\"1\" class=\"dataframe\">\n",
       "  <thead>\n",
       "    <tr style=\"text-align: right;\">\n",
       "      <th></th>\n",
       "      <th>filename</th>\n",
       "      <th>generated_text</th>\n",
       "      <th>similarity</th>\n",
       "    </tr>\n",
       "  </thead>\n",
       "  <tbody>\n",
       "    <tr>\n",
       "      <th>0</th>\n",
       "      <td>cv-valid-dev/sample-000000.mp3</td>\n",
       "      <td>be careful with your propnastigations said the stranger</td>\n",
       "      <td>True</td>\n",
       "    </tr>\n",
       "    <tr>\n",
       "      <th>1</th>\n",
       "      <td>cv-valid-dev/sample-000001.mp3</td>\n",
       "      <td>then why should they be surprised when they se born</td>\n",
       "      <td>False</td>\n",
       "    </tr>\n",
       "    <tr>\n",
       "      <th>2</th>\n",
       "      <td>cv-valid-dev/sample-000002.mp3</td>\n",
       "      <td>a young arab also loaded down with bagage entered and greted the englishman</td>\n",
       "      <td>False</td>\n",
       "    </tr>\n",
       "    <tr>\n",
       "      <th>3</th>\n",
       "      <td>cv-valid-dev/sample-000003.mp3</td>\n",
       "      <td>i felt that everything i owned would be destroyed</td>\n",
       "      <td>False</td>\n",
       "    </tr>\n",
       "    <tr>\n",
       "      <th>4</th>\n",
       "      <td>cv-valid-dev/sample-000004.mp3</td>\n",
       "      <td>he moved about invisible but everyone could hear him</td>\n",
       "      <td>False</td>\n",
       "    </tr>\n",
       "    <tr>\n",
       "      <th>...</th>\n",
       "      <td>...</td>\n",
       "      <td>...</td>\n",
       "      <td>...</td>\n",
       "    </tr>\n",
       "    <tr>\n",
       "      <th>4071</th>\n",
       "      <td>cv-valid-dev/sample-004071.mp3</td>\n",
       "      <td>but they could never have taught him arabic</td>\n",
       "      <td>False</td>\n",
       "    </tr>\n",
       "    <tr>\n",
       "      <th>4072</th>\n",
       "      <td>cv-valid-dev/sample-004072.mp3</td>\n",
       "      <td>he decided to concentrate on more practical maters</td>\n",
       "      <td>False</td>\n",
       "    </tr>\n",
       "    <tr>\n",
       "      <th>4073</th>\n",
       "      <td>cv-valid-dev/sample-004073.mp3</td>\n",
       "      <td>that's what i'm not suposed to say</td>\n",
       "      <td>False</td>\n",
       "    </tr>\n",
       "    <tr>\n",
       "      <th>4074</th>\n",
       "      <td>cv-valid-dev/sample-004074.mp3</td>\n",
       "      <td>just andoin pe made him fel picter</td>\n",
       "      <td>False</td>\n",
       "    </tr>\n",
       "    <tr>\n",
       "      <th>4075</th>\n",
       "      <td>cv-valid-dev/sample-004075.mp3</td>\n",
       "      <td>the city sealer's ofice</td>\n",
       "      <td>False</td>\n",
       "    </tr>\n",
       "  </tbody>\n",
       "</table>\n",
       "<p>4076 rows × 3 columns</p>\n",
       "</div>"
      ],
      "text/plain": [
       "                            filename  \\\n",
       "0     cv-valid-dev/sample-000000.mp3   \n",
       "1     cv-valid-dev/sample-000001.mp3   \n",
       "2     cv-valid-dev/sample-000002.mp3   \n",
       "3     cv-valid-dev/sample-000003.mp3   \n",
       "4     cv-valid-dev/sample-000004.mp3   \n",
       "...                              ...   \n",
       "4071  cv-valid-dev/sample-004071.mp3   \n",
       "4072  cv-valid-dev/sample-004072.mp3   \n",
       "4073  cv-valid-dev/sample-004073.mp3   \n",
       "4074  cv-valid-dev/sample-004074.mp3   \n",
       "4075  cv-valid-dev/sample-004075.mp3   \n",
       "\n",
       "                                                                   generated_text  \\\n",
       "0                         be careful with your propnastigations said the stranger   \n",
       "1                             then why should they be surprised when they se born   \n",
       "2     a young arab also loaded down with bagage entered and greted the englishman   \n",
       "3                               i felt that everything i owned would be destroyed   \n",
       "4                            he moved about invisible but everyone could hear him   \n",
       "...                                                                           ...   \n",
       "4071                                  but they could never have taught him arabic   \n",
       "4072                           he decided to concentrate on more practical maters   \n",
       "4073                                           that's what i'm not suposed to say   \n",
       "4074                                           just andoin pe made him fel picter   \n",
       "4075                                                      the city sealer's ofice   \n",
       "\n",
       "      similarity  \n",
       "0           True  \n",
       "1          False  \n",
       "2          False  \n",
       "3          False  \n",
       "4          False  \n",
       "...          ...  \n",
       "4071       False  \n",
       "4072       False  \n",
       "4073       False  \n",
       "4074       False  \n",
       "4075       False  \n",
       "\n",
       "[4076 rows x 3 columns]"
      ]
     },
     "execution_count": 6,
     "metadata": {},
     "output_type": "execute_result"
    }
   ],
   "source": [
    "from tqdm import tqdm\n",
    "\n",
    "def is_similar(text: str, threshold=0.87) -> bool:\n",
    "    \"\"\"\n",
    "    Check if the text is similar to any of the hotwords.\n",
    "    Returns True if the cosine similarity is above the threshold, otherwise False.\n",
    "    \"\"\"\n",
    "    # Compute embedding for the input text\n",
    "    text_embedding = model.encode(text, convert_to_tensor=True)\n",
    "    \n",
    "    # Compute cosine similarities between the text and all hotwords\n",
    "    similarities = util.cos_sim(text_embedding, hotword_embeddings)\n",
    "    \n",
    "    # Check if any similarity score exceeds the threshold\n",
    "    return bool((similarities > threshold).any().item())\n",
    "\n",
    "\n",
    "tqdm.pandas(desc=\"Similarity Check Progress\")\n",
    "\n",
    "# Apply the similarity check to each row in the DataFrame\n",
    "df[\"similarity\"] = df[\"generated_text\"].progress_apply(lambda x: is_similar(x) if pd.notna(x) else False)\n",
    "df"
   ]
  },
  {
   "cell_type": "code",
   "execution_count": 7,
   "metadata": {},
   "outputs": [],
   "source": [
    "# Save the dataframe as the updated cv-valid-dev.csv\n",
    "df.to_csv('cv-valid-dev.csv', index=False)"
   ]
  }
 ],
 "metadata": {
  "kernelspec": {
   "display_name": "htx_env",
   "language": "python",
   "name": "python3"
  },
  "language_info": {
   "codemirror_mode": {
    "name": "ipython",
    "version": 3
   },
   "file_extension": ".py",
   "mimetype": "text/x-python",
   "name": "python",
   "nbconvert_exporter": "python",
   "pygments_lexer": "ipython3",
   "version": "3.11.11"
  }
 },
 "nbformat": 4,
 "nbformat_minor": 2
}
